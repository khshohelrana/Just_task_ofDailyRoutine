{
  "nbformat": 4,
  "nbformat_minor": 0,
  "metadata": {
    "colab": {
      "provenance": [],
      "authorship_tag": "ABX9TyOGp+dA1NPoM9zYRPw0hG1t",
      "include_colab_link": true
    },
    "kernelspec": {
      "name": "python3",
      "display_name": "Python 3"
    },
    "language_info": {
      "name": "python"
    }
  },
  "cells": [
    {
      "cell_type": "markdown",
      "metadata": {
        "id": "view-in-github",
        "colab_type": "text"
      },
      "source": [
        "<a href=\"https://colab.research.google.com/github/khshohelrana/Just_task_ofDailyRoutine/blob/main/Insert_Data_into_Excel.ipynb\" target=\"_parent\"><img src=\"https://colab.research.google.com/assets/colab-badge.svg\" alt=\"Open In Colab\"/></a>"
      ]
    },
    {
      "cell_type": "code",
      "execution_count": null,
      "metadata": {
        "colab": {
          "base_uri": "https://localhost:8080/"
        },
        "id": "cvxGtZ0EFZT-",
        "outputId": "1c66ed98-f383-425e-b630-c22d59aeeb7e"
      },
      "outputs": [
        {
          "output_type": "stream",
          "name": "stdout",
          "text": [
            "Requirement already satisfied: pandas in /usr/local/lib/python3.11/dist-packages (2.2.2)\n",
            "Requirement already satisfied: openpyxl in /usr/local/lib/python3.11/dist-packages (3.1.5)\n",
            "Collecting python-docx\n",
            "  Downloading python_docx-1.1.2-py3-none-any.whl.metadata (2.0 kB)\n",
            "Requirement already satisfied: numpy>=1.23.2 in /usr/local/lib/python3.11/dist-packages (from pandas) (1.26.4)\n",
            "Requirement already satisfied: python-dateutil>=2.8.2 in /usr/local/lib/python3.11/dist-packages (from pandas) (2.8.2)\n",
            "Requirement already satisfied: pytz>=2020.1 in /usr/local/lib/python3.11/dist-packages (from pandas) (2025.1)\n",
            "Requirement already satisfied: tzdata>=2022.7 in /usr/local/lib/python3.11/dist-packages (from pandas) (2025.1)\n",
            "Requirement already satisfied: et-xmlfile in /usr/local/lib/python3.11/dist-packages (from openpyxl) (2.0.0)\n",
            "Requirement already satisfied: lxml>=3.1.0 in /usr/local/lib/python3.11/dist-packages (from python-docx) (5.3.0)\n",
            "Requirement already satisfied: typing-extensions>=4.9.0 in /usr/local/lib/python3.11/dist-packages (from python-docx) (4.12.2)\n",
            "Requirement already satisfied: six>=1.5 in /usr/local/lib/python3.11/dist-packages (from python-dateutil>=2.8.2->pandas) (1.17.0)\n",
            "Downloading python_docx-1.1.2-py3-none-any.whl (244 kB)\n",
            "\u001b[2K   \u001b[90m━━━━━━━━━━━━━━━━━━━━━━━━━━━━━━━━━━━━━━━━\u001b[0m \u001b[32m244.3/244.3 kB\u001b[0m \u001b[31m5.1 MB/s\u001b[0m eta \u001b[36m0:00:00\u001b[0m\n",
            "\u001b[?25hInstalling collected packages: python-docx\n",
            "Successfully installed python-docx-1.1.2\n"
          ]
        }
      ],
      "source": [
        "pip install pandas openpyxl python-docx\n"
      ]
    },
    {
      "cell_type": "code",
      "source": [
        "import pandas as pd\n",
        "from docx import Document\n",
        "\n",
        "# Load the .docx file\n",
        "doc_path = \"/content/MainFile.docx\"  # Update this path if needed\n",
        "doc = Document(doc_path)\n",
        "\n",
        "# Lists to store extracted data\n",
        "chapter_data = []\n",
        "title_data = []\n",
        "hadith_data = []\n",
        "\n",
        "# Variables to track sections\n",
        "current_chapter = None\n",
        "current_title = None\n",
        "hadith_text = []\n",
        "id_counter = 1\n",
        "\n",
        "# Process document\n",
        "for para in doc.paragraphs:\n",
        "    text = para.text.strip()\n",
        "\n",
        "    if text.startswith(\"অধ্যায়:\"):  # Detect Chapter\n",
        "        if current_chapter and hadith_text:\n",
        "            hadith_data.append([id_counter, \"\\n\".join(hadith_text)])\n",
        "            hadith_text = []\n",
        "            id_counter += 1\n",
        "\n",
        "        current_chapter = text.replace(\"অধ্যায়:\", \"\").strip()\n",
        "        chapter_data.append([id_counter, current_chapter])\n",
        "\n",
        "    elif current_chapter and not current_title:  # First non-empty line after Chapter is the Title\n",
        "        current_title = text\n",
        "        title_data.append([id_counter, current_title])\n",
        "\n",
        "    elif current_chapter and current_title:  # Remaining lines are Hadith\n",
        "        hadith_text.append(text)\n",
        "\n",
        "# Save last Hadith entry\n",
        "if current_chapter and hadith_text:\n",
        "    hadith_data.append([id_counter, \"\\n\".join(hadith_text)])\n",
        "\n",
        "# Create DataFrames\n",
        "df_chapter = pd.DataFrame(chapter_data, columns=[\"ID\", \"Chapter\"])\n",
        "df_title = pd.DataFrame(title_data, columns=[\"ID\", \"Title\"])\n",
        "df_hadith = pd.DataFrame(hadith_data, columns=[\"ID\", \"Hadith\"])\n",
        "\n",
        "# Save to Excel\n",
        "excel_filename = \"/content/hadith_data.xlsx\"\n",
        "with pd.ExcelWriter(excel_filename, engine=\"openpyxl\") as writer:\n",
        "    df_chapter.to_excel(writer, sheet_name=\"Chapters\", index=False)\n",
        "    df_title.to_excel(writer, sheet_name=\"Titles\", index=False)\n",
        "    df_hadith.to_excel(writer, sheet_name=\"Hadiths\", index=False)\n",
        "\n",
        "print(f\"Data successfully saved to {excel_filename}\")\n"
      ],
      "metadata": {
        "colab": {
          "base_uri": "https://localhost:8080/"
        },
        "id": "_5mMquKkFnoG",
        "outputId": "015f864b-0e83-40b3-856a-0211ee6e9e8d"
      },
      "execution_count": null,
      "outputs": [
        {
          "output_type": "stream",
          "name": "stdout",
          "text": [
            "Data successfully saved to /content/hadith_data.xlsx\n"
          ]
        }
      ]
    },
    {
      "cell_type": "code",
      "source": [
        "import pandas as pd\n",
        "from docx import Document\n",
        "\n",
        "# Load the .docx file\n",
        "doc_path = \"/content/MainFile.docx\"  # Update this path if needed\n",
        "doc = Document(doc_path)\n",
        "\n",
        "# Lists to store extracted data\n",
        "chapter_data = []\n",
        "title_data = []\n",
        "hadith_data = []\n",
        "\n",
        "# Tracking variables\n",
        "current_chapter = None\n",
        "current_title = None\n",
        "id_counter = 1  # Unique ID for each hadith entry\n",
        "chapter_id = None\n",
        "title_id = None\n",
        "\n",
        "# Process document\n",
        "for para in doc.paragraphs:\n",
        "    text = para.text.strip()\n",
        "\n",
        "    if not text:  # Skip empty lines\n",
        "        continue\n",
        "\n",
        "    if text.startswith(\"অধ্যায়:\"):  # Detect Chapter\n",
        "        current_chapter = text.replace(\"অধ্যায়:\", \"\").strip()\n",
        "        chapter_id = len(chapter_data) + 1  # Increment chapter ID\n",
        "        chapter_data.append([chapter_id, current_chapter])\n",
        "        current_title = None  # Reset title for new chapter\n",
        "\n",
        "    elif current_chapter and para.runs and para.runs[0].bold:  # Detect Title (bold text)\n",
        "        current_title = text\n",
        "        title_id = len(title_data) + 1  # Increment title ID\n",
        "        title_data.append([title_id, chapter_id, current_title])\n",
        "\n",
        "    elif current_chapter and current_title and text.startswith(\"[\") and text[1].isdigit():  # Detect Hadith\n",
        "        hadith_data.append([id_counter, chapter_id, title_id, text])\n",
        "        id_counter += 1\n",
        "\n",
        "# Create DataFrames\n",
        "df_chapter = pd.DataFrame(chapter_data, columns=[\"Chapter_ID\", \"Chapter\"])\n",
        "df_title = pd.DataFrame(title_data, columns=[\"Title_ID\", \"Chapter_ID\", \"Title\"])\n",
        "df_hadith = pd.DataFrame(hadith_data, columns=[\"Hadith_ID\", \"Chapter_ID\", \"Title_ID\", \"Hadith\"])\n",
        "\n",
        "# Save to Excel\n",
        "excel_filename = \"/content/hadith_data.xlsx\"\n",
        "with pd.ExcelWriter(excel_filename, engine=\"openpyxl\") as writer:\n",
        "    df_chapter.to_excel(writer, sheet_name=\"Chapters\", index=False)\n",
        "    df_title.to_excel(writer, sheet_name=\"Titles\", index=False)\n",
        "    df_hadith.to_excel(writer, sheet_name=\"Hadiths\", index=False)\n",
        "\n",
        "print(f\"Data successfully saved to {excel_filename}\")\n"
      ],
      "metadata": {
        "colab": {
          "base_uri": "https://localhost:8080/"
        },
        "id": "jAAjt_5IHKrc",
        "outputId": "e4115d42-a432-4cf4-f75f-1516a3dcceed"
      },
      "execution_count": null,
      "outputs": [
        {
          "output_type": "stream",
          "name": "stdout",
          "text": [
            "Data successfully saved to /content/hadith_data.xlsx\n"
          ]
        }
      ]
    },
    {
      "cell_type": "code",
      "source": [
        "import pandas as pd\n",
        "from docx import Document\n",
        "\n",
        "# Load the .docx file\n",
        "doc_path = \"/content/MainFile.docx\"\n",
        "doc = Document(doc_path)\n",
        "\n",
        "# Lists to store extracted data\n",
        "chapter_data = []\n",
        "title_data = []\n",
        "hadith_data = []\n",
        "\n",
        "# Tracking variables\n",
        "current_chapter = None\n",
        "current_title = None\n",
        "id_counter = 1\n",
        "chapter_id = None\n",
        "title_id = None\n",
        "\n",
        "# Process document\n",
        "for para in doc.paragraphs:\n",
        "    text = para.text.strip()\n",
        "\n",
        "    if not text:\n",
        "        continue\n",
        "\n",
        "    if text.startswith(\"অধ্যায়:\"):\n",
        "        current_chapter = text.replace(\"অধ্যায়:\", \"\").strip()\n",
        "        chapter_id = len(chapter_data) + 1\n",
        "        chapter_data.append([chapter_id, current_chapter])\n",
        "        current_title = None\n",
        "\n",
        "    elif current_chapter and para.runs and para.runs[0].bold:\n",
        "        current_title = text\n",
        "        title_id = len(title_data) + 1\n",
        "        title_data.append([title_id, chapter_id, current_title])\n",
        "\n",
        "    elif current_chapter and current_title and text.startswith(\"[\") and text[1].isdigit():\n",
        "        hadith_data.append([id_counter, chapter_id, title_id, text])\n",
        "        id_counter += 1\n",
        "\n",
        "# Convert lists to DataFrames\n",
        "df_chapter = pd.DataFrame(chapter_data, columns=[\"Chapter_ID\", \"Chapter\"]).drop_duplicates().dropna()\n",
        "df_title = pd.DataFrame(title_data, columns=[\"Title_ID\", \"Chapter_ID\", \"Title\"]).drop_duplicates().dropna()\n",
        "df_hadith = pd.DataFrame(hadith_data, columns=[\"Hadith_ID\", \"Chapter_ID\", \"Title_ID\", \"Hadith\"]).drop_duplicates().dropna()\n",
        "\n",
        "# Save to Excel (removing index column)\n",
        "excel_filename = \"/content/hadith_data.xlsx\"\n",
        "with pd.ExcelWriter(excel_filename, engine=\"openpyxl\") as writer:\n",
        "    df_chapter.to_excel(writer, sheet_name=\"Chapters\", index=False)\n",
        "    df_title.to_excel(writer, sheet_name=\"Titles\", index=False)\n",
        "    df_hadith.to_excel(writer, sheet_name=\"Hadiths\", index=False)\n",
        "\n",
        "print(f\"Data successfully saved to {excel_filename}\")\n"
      ],
      "metadata": {
        "colab": {
          "base_uri": "https://localhost:8080/"
        },
        "id": "Ph7MeQKILnYX",
        "outputId": "5e1c2f27-a13e-434a-a541-414004f96c44"
      },
      "execution_count": null,
      "outputs": [
        {
          "output_type": "stream",
          "name": "stdout",
          "text": [
            "Data successfully saved to /content/hadith_data.xlsx\n"
          ]
        }
      ]
    }
  ]
}